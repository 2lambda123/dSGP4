{
 "cells": [
  {
   "cell_type": "markdown",
   "id": "c40d45ab",
   "metadata": {},
   "source": [
    "## Problem description\n",
    "\n",
    "We have a TLE at a given time, which we call TLE$_{0}$, and we look for a TLE at a future observation time ($t_{obs}$): TLE$_{t}$. \n",
    "\n",
    "We can propagate the state from $t_0 \\rightarrow t_{obs}$, and obtain the state at $t_{obs}$. In general, we define the state (i.e., position and velocity), as:\n",
    "\n",
    "\\begin{equation}\n",
    "\\vec{x}(t)=[x(t), y(t), z(t), \\dot{x}(t), \\dot{y}(t), \\dot{z}(t)]^T\n",
    "\\end{equation}\n",
    "\n",
    "We then have: TLE$_0$, $\\vec{x}(t_0)$, and $\\vec{x}(t_{obs})$, but we want to find TLE$_{obs}$. That is, the TLE at the observation time, that when propagated with SGP4 at its time, it corresponds to that $\\vec{x}(t_{obs})$. In general, this means that we are able to invert from the state to the TLE, at any given time. \n",
    "\n",
    "In order to do this, we formulate the problem as looking for the minimum of a function of a free variables vector (i.e., $\\vec{y}$) $F(\\vec{y})$, where this function defines the difference between the given state propagated from TLE$_0$ at $t_{obs}$, and the state generated from the free variables that make a TLE which is then propagated at its current time: TLE$(\\vec{y})(t_{0}\\rightarrow t_{obs})$. So we can reformulate the problem as:\n",
    "\n",
    "\\begin{align}\n",
    "\\textrm{given}: & \\ \\textrm{TLE}_0, \\vec{x}_0\\\\\n",
    "\\textrm{find}: & \\ \\vec{y}\\\\\n",
    "\\textrm{that minimize}: & F(\\vec{y})=|SGP4(\\textrm{TLE}(\\vec{y}),t_{obs})-\\vec{x}(t_{obs})| =|\\vec{\\tilde{x}}(t_{obs})-\\vec{x}(t_{obs})|\n",
    "\\end{align}\n",
    "\n",
    "We can do this via Newton method, by updating an initial guess $y_{0}$ until convergence. Where the update is done as follows:\n",
    "\n",
    "\\begin{equation}\n",
    "y_{k+1}=y_{k}-DF^{-1}(y_k)F(y_k)\n",
    "\\end{equation}\n",
    "\n",
    "with $DF$ the Jacobian of $F$ with respect to $y_k$. We can easily see that this Jacobian is made of the following elements:\n",
    "\n",
    "\\begin{equation}\n",
    "DF_{ij}=\\dfrac{\\partial \\tilde{x}_{i}}{\\partial y_{j}}|_{y_k}\n",
    "\\end{equation}\n",
    "\n",
    "where $\\tilde{x}_{i} \\in [\\tilde{x}_1,\\tilde{x}_2,\\tilde{x}_3,\\tilde{x}_4,\\tilde{x}_5,\\tilde{x}_6]=[\\tilde{x},\\tilde{y},\\tilde{z},\\tilde{\\dot{x}},\\tilde{\\dot{y}},\\tilde{\\dot{z}}]$; and $y_i \\in [no_{kozai}, ecco, inclo, mo, argpo, nodeo, n_{dot},n_{ddot},B^*]$.\n",
    "\n",
    "Since we built a differentiable SGP4, we can compute the gradient of the state w.r.t. the TLE inputs quite easily. Furthermore, the initial guess ($y_{0}$) will be found by the simple inversion from Cartesian to Keplerian, which does not correctly invert from state to TLE, but it is good as initial approximation.\n",
    "\n",
    "\n",
    "\n"
   ]
  },
  {
   "cell_type": "code",
   "execution_count": 1,
   "id": "410128b9",
   "metadata": {},
   "outputs": [],
   "source": [
    "import kessler\n",
    "import dsgp4\n",
    "\n",
    "path=\"TLEs_catalog_tests.txt\"\n",
    "tles=kessler.tle.load(file_name=path)\n",
    "whichconst=dsgp4.util.get_gravity_constants(\"wgs-72\")\n",
    "#I exclude the TLEs that re-enter or are invalid:\n",
    "deep_space_counter=0\n",
    "error_counter=0\n",
    "tles_filtered=[]\n",
    "for idx, tle_satellite in enumerate(tles):\n",
    "    \n",
    "    try:\n",
    "        dsgp4.sgp4init(whichconst=whichconst,\n",
    "                        opsmode=tle_satellite._opsmode,\n",
    "                        satn=tle_satellite.satellite_catalog_number,\n",
    "                        epoch=(tle_satellite._jdsatepoch+tle_satellite._jdsatepochF)-2433281.5,\n",
    "                        xbstar=tle_satellite._bstar,\n",
    "                        xndot=tle_satellite._ndot,\n",
    "                        xnddot=tle_satellite._nddot,\n",
    "                        xecco=tle_satellite._ecco,\n",
    "                        xargpo=tle_satellite._argpo,\n",
    "                        xinclo=tle_satellite._inclo,\n",
    "                        xmo=tle_satellite._mo,\n",
    "                        xno_kozai=tle_satellite._no_kozai,\n",
    "                        xnodeo=tle_satellite._nodeo,\n",
    "                        satrec=tle_satellite)\n",
    "        if tle_satellite._error==0:\n",
    "            tles_filtered.append(tle_satellite)\n",
    "        else:\n",
    "            error_counter+=1\n",
    "    except:\n",
    "        deep_space_counter+=1\n",
    "        \n",
    "#I extract the first TLE to show gradient-based optimization usage:\n",
    "my_tle=tles[0]"
   ]
  },
  {
   "cell_type": "code",
   "execution_count": 4,
   "id": "c376c651",
   "metadata": {},
   "outputs": [
    {
     "name": "stdout",
     "output_type": "stream",
     "text": [
      "F(y): 1.5889411107767498e-14\n",
      "Solution found, at iter: 5\n",
      "TLE(\n",
      "0 COSMOS 2251 DEB\n",
      "1 34427U 93036RU  22068.94647328  .00008100  00000-0  11455-2 0  9999\n",
      "2 34427  74.0145 306.8269 0033346  13.0723 347.1308 14.76870515693886\n",
      ") TLE(\n",
      "1 34427U 93036RU  22068.94647328  .00008100  00000-0  11455-2 0  9999\n",
      "2 34427  74.0145 306.8269 0033346  13.0723 347.1308 14.76870515693886\n",
      ")\n"
     ]
    }
   ],
   "source": [
    "#when I propagate to zero, I expect the returned TLE to be identical to my_tle:\n",
    "found_tle, y=dsgp4.newton_method(tle_0=my_tle,tsince=0.,new_tol=1e-12,max_iter=100)\n",
    "\n",
    "print(my_tle,found_tle)"
   ]
  },
  {
   "cell_type": "code",
   "execution_count": 5,
   "id": "e0f85268",
   "metadata": {},
   "outputs": [
    {
     "name": "stdout",
     "output_type": "stream",
     "text": [
      "F(y): 1.6653345369377348e-16\n",
      "Solution found, at iter: 6\n",
      "TLE(\n",
      "0 COSMOS 2251 DEB\n",
      "1 34427U 93036RU  22068.94647328  .00008100  00000-0  11455-2 0  9999\n",
      "2 34427  74.0145 306.8269 0033346  13.0723 347.1308 14.76870515693886\n",
      ") TLE(\n",
      "1 34427U 93036RU  22069.64091772  .00008100  00000-0  11455-2 0  9993\n",
      "2 34427  74.0145 305.4646 0033342  11.5310  79.3234 14.76881799693889\n",
      ")\n"
     ]
    }
   ],
   "source": [
    "#I now propagate until 1000 minutes after\n",
    "found_tle, y=dsgp4.newton_method(tle_0=my_tle,tsince=1000.,new_tol=1e-12,max_iter=100)\n",
    "#Newton still converges, and the TLE is of course now different:\n",
    "\n",
    "print(my_tle, found_tle)"
   ]
  }
 ],
 "metadata": {
  "kernelspec": {
   "display_name": "Python 3 (ipykernel)",
   "language": "python",
   "name": "python3"
  },
  "language_info": {
   "codemirror_mode": {
    "name": "ipython",
    "version": 3
   },
   "file_extension": ".py",
   "mimetype": "text/x-python",
   "name": "python",
   "nbconvert_exporter": "python",
   "pygments_lexer": "ipython3",
   "version": "3.8.12"
  }
 },
 "nbformat": 4,
 "nbformat_minor": 5
}
